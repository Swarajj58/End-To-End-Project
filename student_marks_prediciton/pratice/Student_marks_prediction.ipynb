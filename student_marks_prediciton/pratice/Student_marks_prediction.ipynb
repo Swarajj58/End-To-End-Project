{
 "cells": [
  {
   "cell_type": "code",
   "execution_count": 2,
   "id": "5a1c6417",
   "metadata": {},
   "outputs": [],
   "source": [
    "#import lib\n",
    "import numpy as np\n",
    "import pandas as pd\n",
    "import matplotlib.pyplot as plt"
   ]
  },
  {
   "cell_type": "code",
   "execution_count": 3,
   "id": "dbea60ad",
   "metadata": {},
   "outputs": [],
   "source": [
    "#import data\n",
    "dataset = pd.read_csv(r\"C:\\Users\\swaraj jaiswal\\OneDrive\\Desktop\\student_info.csv\")"
   ]
  },
  {
   "cell_type": "code",
   "execution_count": 5,
   "id": "5931a7db",
   "metadata": {},
   "outputs": [
    {
     "data": {
      "text/html": [
       "<div>\n",
       "<style scoped>\n",
       "    .dataframe tbody tr th:only-of-type {\n",
       "        vertical-align: middle;\n",
       "    }\n",
       "\n",
       "    .dataframe tbody tr th {\n",
       "        vertical-align: top;\n",
       "    }\n",
       "\n",
       "    .dataframe thead th {\n",
       "        text-align: right;\n",
       "    }\n",
       "</style>\n",
       "<table border=\"1\" class=\"dataframe\">\n",
       "  <thead>\n",
       "    <tr style=\"text-align: right;\">\n",
       "      <th></th>\n",
       "      <th>study_hours</th>\n",
       "      <th>student_marks</th>\n",
       "    </tr>\n",
       "  </thead>\n",
       "  <tbody>\n",
       "    <tr>\n",
       "      <th>0</th>\n",
       "      <td>6.83</td>\n",
       "      <td>78.50</td>\n",
       "    </tr>\n",
       "    <tr>\n",
       "      <th>1</th>\n",
       "      <td>6.56</td>\n",
       "      <td>76.74</td>\n",
       "    </tr>\n",
       "    <tr>\n",
       "      <th>2</th>\n",
       "      <td>NaN</td>\n",
       "      <td>78.68</td>\n",
       "    </tr>\n",
       "    <tr>\n",
       "      <th>3</th>\n",
       "      <td>5.67</td>\n",
       "      <td>71.82</td>\n",
       "    </tr>\n",
       "    <tr>\n",
       "      <th>4</th>\n",
       "      <td>8.67</td>\n",
       "      <td>84.19</td>\n",
       "    </tr>\n",
       "  </tbody>\n",
       "</table>\n",
       "</div>"
      ],
      "text/plain": [
       "   study_hours  student_marks\n",
       "0         6.83          78.50\n",
       "1         6.56          76.74\n",
       "2          NaN          78.68\n",
       "3         5.67          71.82\n",
       "4         8.67          84.19"
      ]
     },
     "execution_count": 5,
     "metadata": {},
     "output_type": "execute_result"
    }
   ],
   "source": [
    "#analyise data\n",
    "dataset.head()"
   ]
  },
  {
   "cell_type": "code",
   "execution_count": 7,
   "id": "a3560c25",
   "metadata": {},
   "outputs": [
    {
     "data": {
      "text/plain": [
       "(200, 2)"
      ]
     },
     "execution_count": 7,
     "metadata": {},
     "output_type": "execute_result"
    }
   ],
   "source": [
    "dataset.shape"
   ]
  },
  {
   "cell_type": "markdown",
   "id": "c6f959b1",
   "metadata": {},
   "source": [
    "# Discover and visualize data to gain insight"
   ]
  },
  {
   "cell_type": "code",
   "execution_count": 9,
   "id": "e210f674",
   "metadata": {},
   "outputs": [
    {
     "name": "stdout",
     "output_type": "stream",
     "text": [
      "<class 'pandas.core.frame.DataFrame'>\n",
      "RangeIndex: 200 entries, 0 to 199\n",
      "Data columns (total 2 columns):\n",
      " #   Column         Non-Null Count  Dtype  \n",
      "---  ------         --------------  -----  \n",
      " 0   study_hours    195 non-null    float64\n",
      " 1   student_marks  200 non-null    float64\n",
      "dtypes: float64(2)\n",
      "memory usage: 3.2 KB\n"
     ]
    }
   ],
   "source": [
    "dataset.info()"
   ]
  },
  {
   "cell_type": "code",
   "execution_count": 10,
   "id": "e94067b3",
   "metadata": {},
   "outputs": [
    {
     "data": {
      "text/plain": [
       "study_hours      5\n",
       "student_marks    0\n",
       "dtype: int64"
      ]
     },
     "execution_count": 10,
     "metadata": {},
     "output_type": "execute_result"
    }
   ],
   "source": [
    "dataset.isnull().sum()"
   ]
  },
  {
   "cell_type": "code",
   "execution_count": 12,
   "id": "a6849161",
   "metadata": {},
   "outputs": [
    {
     "data": {
      "text/html": [
       "<div>\n",
       "<style scoped>\n",
       "    .dataframe tbody tr th:only-of-type {\n",
       "        vertical-align: middle;\n",
       "    }\n",
       "\n",
       "    .dataframe tbody tr th {\n",
       "        vertical-align: top;\n",
       "    }\n",
       "\n",
       "    .dataframe thead th {\n",
       "        text-align: right;\n",
       "    }\n",
       "</style>\n",
       "<table border=\"1\" class=\"dataframe\">\n",
       "  <thead>\n",
       "    <tr style=\"text-align: right;\">\n",
       "      <th></th>\n",
       "      <th>study_hours</th>\n",
       "      <th>student_marks</th>\n",
       "    </tr>\n",
       "  </thead>\n",
       "  <tbody>\n",
       "    <tr>\n",
       "      <th>count</th>\n",
       "      <td>195.000000</td>\n",
       "      <td>200.00000</td>\n",
       "    </tr>\n",
       "    <tr>\n",
       "      <th>mean</th>\n",
       "      <td>6.995949</td>\n",
       "      <td>77.93375</td>\n",
       "    </tr>\n",
       "    <tr>\n",
       "      <th>std</th>\n",
       "      <td>1.253060</td>\n",
       "      <td>4.92570</td>\n",
       "    </tr>\n",
       "    <tr>\n",
       "      <th>min</th>\n",
       "      <td>5.010000</td>\n",
       "      <td>68.57000</td>\n",
       "    </tr>\n",
       "    <tr>\n",
       "      <th>25%</th>\n",
       "      <td>5.775000</td>\n",
       "      <td>73.38500</td>\n",
       "    </tr>\n",
       "    <tr>\n",
       "      <th>50%</th>\n",
       "      <td>7.120000</td>\n",
       "      <td>77.71000</td>\n",
       "    </tr>\n",
       "    <tr>\n",
       "      <th>75%</th>\n",
       "      <td>8.085000</td>\n",
       "      <td>82.32000</td>\n",
       "    </tr>\n",
       "    <tr>\n",
       "      <th>max</th>\n",
       "      <td>8.990000</td>\n",
       "      <td>86.99000</td>\n",
       "    </tr>\n",
       "  </tbody>\n",
       "</table>\n",
       "</div>"
      ],
      "text/plain": [
       "       study_hours  student_marks\n",
       "count   195.000000      200.00000\n",
       "mean      6.995949       77.93375\n",
       "std       1.253060        4.92570\n",
       "min       5.010000       68.57000\n",
       "25%       5.775000       73.38500\n",
       "50%       7.120000       77.71000\n",
       "75%       8.085000       82.32000\n",
       "max       8.990000       86.99000"
      ]
     },
     "execution_count": 12,
     "metadata": {},
     "output_type": "execute_result"
    }
   ],
   "source": [
    "dataset.describe()"
   ]
  },
  {
   "cell_type": "code",
   "execution_count": 15,
   "id": "60d11285",
   "metadata": {},
   "outputs": [
    {
     "data": {
      "text/plain": [
       "Text(0.5, 1.0, 'Student marks acooring to study hours')"
      ]
     },
     "execution_count": 15,
     "metadata": {},
     "output_type": "execute_result"
    },
    {
     "data": {
      "image/png": "[encoded data removed]",
      "text/plain": [
       "<Figure size 640x480 with 1 Axes>"
      ]
     },
     "metadata": {},
     "output_type": "display_data"
    }
   ],
   "source": [
    "plt.scatter(dataset.student_marks,dataset.study_hours)\n",
    "plt.xlabel(\"Student_marks\")\n",
    "plt.ylabel(\"Student_hours\")\n",
    "plt.title(\"Student marks acooring to study hours\")"
   ]
  },
  {
   "cell_type": "markdown",
   "id": "c1a779be",
   "metadata": {},
   "source": [
    "Conculsion:\n",
    "this is strong +ve corelation"
   ]
  },
  {
   "cell_type": "markdown",
   "id": "1afda5af",
   "metadata": {},
   "source": [
    "# prepare data for ml model\n",
    "\n",
    "1.clean data"
   ]
  },
  {
   "cell_type": "code",
   "execution_count": 17,
   "id": "afcf9f40",
   "metadata": {},
   "outputs": [
    {
     "data": {
      "text/plain": [
       "study_hours      5\n",
       "student_marks    0\n",
       "dtype: int64"
      ]
     },
     "execution_count": 17,
     "metadata": {},
     "output_type": "execute_result"
    }
   ],
   "source": [
    "dataset.isnull().sum()"
   ]
  },
  {
   "cell_type": "code",
   "execution_count": 18,
   "id": "1dc68981",
   "metadata": {},
   "outputs": [],
   "source": [
    "df = dataset.fillna(dataset.mean())"
   ]
  },
  {
   "cell_type": "code",
   "execution_count": 19,
   "id": "131371ac",
   "metadata": {},
   "outputs": [
    {
     "data": {
      "text/html": [
       "<div>\n",
       "<style scoped>\n",
       "    .dataframe tbody tr th:only-of-type {\n",
       "        vertical-align: middle;\n",
       "    }\n",
       "\n",
       "    .dataframe tbody tr th {\n",
       "        vertical-align: top;\n",
       "    }\n",
       "\n",
       "    .dataframe thead th {\n",
       "        text-align: right;\n",
       "    }\n",
       "</style>\n",
       "<table border=\"1\" class=\"dataframe\">\n",
       "  <thead>\n",
       "    <tr style=\"text-align: right;\">\n",
       "      <th></th>\n",
       "      <th>study_hours</th>\n",
       "      <th>student_marks</th>\n",
       "    </tr>\n",
       "  </thead>\n",
       "  <tbody>\n",
       "    <tr>\n",
       "      <th>0</th>\n",
       "      <td>6.830000</td>\n",
       "      <td>78.50</td>\n",
       "    </tr>\n",
       "    <tr>\n",
       "      <th>1</th>\n",
       "      <td>6.560000</td>\n",
       "      <td>76.74</td>\n",
       "    </tr>\n",
       "    <tr>\n",
       "      <th>2</th>\n",
       "      <td>6.995949</td>\n",
       "      <td>78.68</td>\n",
       "    </tr>\n",
       "    <tr>\n",
       "      <th>3</th>\n",
       "      <td>5.670000</td>\n",
       "      <td>71.82</td>\n",
       "    </tr>\n",
       "    <tr>\n",
       "      <th>4</th>\n",
       "      <td>8.670000</td>\n",
       "      <td>84.19</td>\n",
       "    </tr>\n",
       "  </tbody>\n",
       "</table>\n",
       "</div>"
      ],
      "text/plain": [
       "   study_hours  student_marks\n",
       "0     6.830000          78.50\n",
       "1     6.560000          76.74\n",
       "2     6.995949          78.68\n",
       "3     5.670000          71.82\n",
       "4     8.670000          84.19"
      ]
     },
     "execution_count": 19,
     "metadata": {},
     "output_type": "execute_result"
    }
   ],
   "source": [
    "df.head()"
   ]
  },
  {
   "cell_type": "code",
   "execution_count": 20,
   "id": "0b006b81",
   "metadata": {},
   "outputs": [
    {
     "data": {
      "text/plain": [
       "study_hours      0\n",
       "student_marks    0\n",
       "dtype: int64"
      ]
     },
     "execution_count": 20,
     "metadata": {},
     "output_type": "execute_result"
    }
   ],
   "source": [
    "df.isnull().sum()"
   ]
  },
  {
   "cell_type": "code",
   "execution_count": 23,
   "id": "49f17989",
   "metadata": {},
   "outputs": [],
   "source": [
    "# study hours is independent \n",
    "#study marks is dependent\n",
    "X = df.drop('student_marks',axis = 'columns')"
   ]
  },
  {
   "cell_type": "code",
   "execution_count": 28,
   "id": "7a617f92",
   "metadata": {},
   "outputs": [],
   "source": [
    "y = df.drop('study_hours',axis ='columns')"
   ]
  },
  {
   "cell_type": "code",
   "execution_count": 29,
   "id": "6c89d508",
   "metadata": {},
   "outputs": [
    {
     "name": "stdout",
     "output_type": "stream",
     "text": [
      "shape of X :  (200, 1)\n",
      "shape of y :  (200, 1)\n"
     ]
    }
   ],
   "source": [
    "print(\"shape of X : \",X.shape)\n",
    "print(\"shape of y : \",y.shape)"
   ]
  },
  {
   "cell_type": "code",
   "execution_count": 30,
   "id": "94335945",
   "metadata": {},
   "outputs": [],
   "source": [
    "#split into train test\n",
    "from sklearn.model_selection import train_test_split"
   ]
  },
  {
   "cell_type": "code",
   "execution_count": 31,
   "id": "5d7da59b",
   "metadata": {},
   "outputs": [],
   "source": [
    "X_train,X_test,y_train,y_test = train_test_split(X,y,test_size=0.20,random_state=0)"
   ]
  },
  {
   "cell_type": "code",
   "execution_count": 33,
   "id": "43f2a0be",
   "metadata": {},
   "outputs": [
    {
     "name": "stdout",
     "output_type": "stream",
     "text": [
      "shape of X_train :  (160, 1)\n",
      "shape of y_train :  (160, 1)\n",
      "shape of X_test :  (40, 1)\n",
      "shape of y_test :  (40, 1)\n"
     ]
    }
   ],
   "source": [
    "print(\"shape of X_train : \",X_train.shape)\n",
    "print(\"shape of y_train : \",y_train.shape)\n",
    "print(\"shape of X_test : \",X_test.shape)\n",
    "print(\"shape of y_test : \",y_test.shape)"
   ]
  },
  {
   "cell_type": "code",
   "execution_count": 38,
   "id": "fdc15894",
   "metadata": {},
   "outputs": [],
   "source": [
    "#we chose this model because our data is in linear and strong +ve line\n",
    "# and why regression because we have continous dependent variable \n",
    "from sklearn.linear_model import LinearRegression\n",
    "lr = LinearRegression()"
   ]
  },
  {
   "cell_type": "code",
   "execution_count": 39,
   "id": "501c8c69",
   "metadata": {},
   "outputs": [],
   "source": [
    "# y = mx+c because it is showing straight line\n",
    "#now for the equation we need to find m and c"
   ]
  },
  {
   "cell_type": "code",
   "execution_count": 40,
   "id": "919f2374",
   "metadata": {},
   "outputs": [
    {
     "data": {
      "text/plain": [
       "LinearRegression()"
      ]
     },
     "execution_count": 40,
     "metadata": {},
     "output_type": "execute_result"
    }
   ],
   "source": [
    "# here we are traning the data\n",
    "lr.fit(X_train,y_train)"
   ]
  },
  {
   "cell_type": "code",
   "execution_count": 42,
   "id": "eee67bb9",
   "metadata": {},
   "outputs": [
    {
     "data": {
      "text/plain": [
       "array([[3.93037294]])"
      ]
     },
     "execution_count": 42,
     "metadata": {},
     "output_type": "execute_result"
    }
   ],
   "source": [
    "#here after training lr find m and c\n",
    "#to check that \n",
    "lr.coef_ # m"
   ]
  },
  {
   "cell_type": "code",
   "execution_count": 44,
   "id": "2b67abf4",
   "metadata": {},
   "outputs": [
    {
     "data": {
      "text/plain": [
       "array([50.45063632])"
      ]
     },
     "execution_count": 44,
     "metadata": {},
     "output_type": "execute_result"
    }
   ],
   "source": [
    "lr.intercept_ # c"
   ]
  },
  {
   "cell_type": "code",
   "execution_count": 53,
   "id": "a044cfc4",
   "metadata": {},
   "outputs": [],
   "source": [
    "# seeing how our model works\n",
    "c = 3.93\n",
    "m = 50.44\n",
    "y = m*4 +c"
   ]
  },
  {
   "cell_type": "code",
   "execution_count": 57,
   "id": "05a882cd",
   "metadata": {},
   "outputs": [
    {
     "name": "stderr",
     "output_type": "stream",
     "text": [
      "D:\\anaconda\\lib\\site-packages\\sklearn\\base.py:450: UserWarning: X does not have valid feature names, but LinearRegression was fitted with feature names\n",
      "  warnings.warn(\n"
     ]
    },
    {
     "data": {
      "text/plain": [
       "66.17"
      ]
     },
     "execution_count": 57,
     "metadata": {},
     "output_type": "execute_result"
    }
   ],
   "source": [
    "# here we predict our example \n",
    "#we take [0] to remove the array and we take it 2 time because our array is in 2dimennsion\n",
    "#round to take 2 values after decimal\n",
    "lr.predict([[4]])[0][0].round(2)"
   ]
  },
  {
   "cell_type": "code",
   "execution_count": 58,
   "id": "ef8568d9",
   "metadata": {},
   "outputs": [],
   "source": [
    "#now we are doing testing\n",
    "y_pred = lr.predict(X_test)"
   ]
  },
  {
   "cell_type": "code",
   "execution_count": 61,
   "id": "9f182542",
   "metadata": {},
   "outputs": [],
   "source": [
    "y_pred = y_pred.round(2)"
   ]
  },
  {
   "cell_type": "code",
   "execution_count": 62,
   "id": "3b021740",
   "metadata": {},
   "outputs": [
    {
     "data": {
      "text/plain": [
       "array([[83.51],\n",
       "       [70.85],\n",
       "       [72.93],\n",
       "       [85.35],\n",
       "       [73.21],\n",
       "       [84.49],\n",
       "       [80.12],\n",
       "       [81.85],\n",
       "       [80.91],\n",
       "       [82.21],\n",
       "       [78.99],\n",
       "       [84.84],\n",
       "       [77.85],\n",
       "       [77.69],\n",
       "       [83.23],\n",
       "       [85.78],\n",
       "       [84.96],\n",
       "       [72.62],\n",
       "       [78.71],\n",
       "       [79.18],\n",
       "       [84.29],\n",
       "       [85.63],\n",
       "       [74.74],\n",
       "       [81.34],\n",
       "       [72.03],\n",
       "       [80.4 ],\n",
       "       [78.99],\n",
       "       [82.09],\n",
       "       [77.95],\n",
       "       [82.25],\n",
       "       [75.45],\n",
       "       [84.61],\n",
       "       [71.64],\n",
       "       [75.49],\n",
       "       [70.3 ],\n",
       "       [78.99],\n",
       "       [75.33],\n",
       "       [84.53],\n",
       "       [74.07],\n",
       "       [71.44]])"
      ]
     },
     "execution_count": 62,
     "metadata": {},
     "output_type": "execute_result"
    }
   ],
   "source": [
    "y_pred"
   ]
  },
  {
   "cell_type": "code",
   "execution_count": 67,
   "id": "9353a7aa",
   "metadata": {},
   "outputs": [
    {
     "data": {
      "text/html": [
       "<div>\n",
       "<style scoped>\n",
       "    .dataframe tbody tr th:only-of-type {\n",
       "        vertical-align: middle;\n",
       "    }\n",
       "\n",
       "    .dataframe tbody tr th {\n",
       "        vertical-align: top;\n",
       "    }\n",
       "\n",
       "    .dataframe thead th {\n",
       "        text-align: right;\n",
       "    }\n",
       "</style>\n",
       "<table border=\"1\" class=\"dataframe\">\n",
       "  <thead>\n",
       "    <tr style=\"text-align: right;\">\n",
       "      <th></th>\n",
       "      <th>student_study_hours</th>\n",
       "      <th>student_actual_marks</th>\n",
       "      <th>student_predicted_marks</th>\n",
       "    </tr>\n",
       "  </thead>\n",
       "  <tbody>\n",
       "    <tr>\n",
       "      <th>0</th>\n",
       "      <td>8.41</td>\n",
       "      <td>82.50</td>\n",
       "      <td>83.51</td>\n",
       "    </tr>\n",
       "    <tr>\n",
       "      <th>1</th>\n",
       "      <td>5.19</td>\n",
       "      <td>71.18</td>\n",
       "      <td>70.85</td>\n",
       "    </tr>\n",
       "    <tr>\n",
       "      <th>2</th>\n",
       "      <td>5.72</td>\n",
       "      <td>73.25</td>\n",
       "      <td>72.93</td>\n",
       "    </tr>\n",
       "    <tr>\n",
       "      <th>3</th>\n",
       "      <td>8.88</td>\n",
       "      <td>83.64</td>\n",
       "      <td>85.35</td>\n",
       "    </tr>\n",
       "    <tr>\n",
       "      <th>4</th>\n",
       "      <td>5.79</td>\n",
       "      <td>73.64</td>\n",
       "      <td>73.21</td>\n",
       "    </tr>\n",
       "    <tr>\n",
       "      <th>5</th>\n",
       "      <td>8.66</td>\n",
       "      <td>86.99</td>\n",
       "      <td>84.49</td>\n",
       "    </tr>\n",
       "    <tr>\n",
       "      <th>6</th>\n",
       "      <td>7.55</td>\n",
       "      <td>81.18</td>\n",
       "      <td>80.12</td>\n",
       "    </tr>\n",
       "    <tr>\n",
       "      <th>7</th>\n",
       "      <td>7.99</td>\n",
       "      <td>82.75</td>\n",
       "      <td>81.85</td>\n",
       "    </tr>\n",
       "    <tr>\n",
       "      <th>8</th>\n",
       "      <td>7.75</td>\n",
       "      <td>79.50</td>\n",
       "      <td>80.91</td>\n",
       "    </tr>\n",
       "    <tr>\n",
       "      <th>9</th>\n",
       "      <td>8.08</td>\n",
       "      <td>81.70</td>\n",
       "      <td>82.21</td>\n",
       "    </tr>\n",
       "    <tr>\n",
       "      <th>10</th>\n",
       "      <td>7.26</td>\n",
       "      <td>79.41</td>\n",
       "      <td>78.99</td>\n",
       "    </tr>\n",
       "    <tr>\n",
       "      <th>11</th>\n",
       "      <td>8.75</td>\n",
       "      <td>85.95</td>\n",
       "      <td>84.84</td>\n",
       "    </tr>\n",
       "    <tr>\n",
       "      <th>12</th>\n",
       "      <td>6.97</td>\n",
       "      <td>77.19</td>\n",
       "      <td>77.85</td>\n",
       "    </tr>\n",
       "    <tr>\n",
       "      <th>13</th>\n",
       "      <td>6.93</td>\n",
       "      <td>78.45</td>\n",
       "      <td>77.69</td>\n",
       "    </tr>\n",
       "    <tr>\n",
       "      <th>14</th>\n",
       "      <td>8.34</td>\n",
       "      <td>84.00</td>\n",
       "      <td>83.23</td>\n",
       "    </tr>\n",
       "    <tr>\n",
       "      <th>15</th>\n",
       "      <td>8.99</td>\n",
       "      <td>85.46</td>\n",
       "      <td>85.78</td>\n",
       "    </tr>\n",
       "    <tr>\n",
       "      <th>16</th>\n",
       "      <td>8.78</td>\n",
       "      <td>84.35</td>\n",
       "      <td>84.96</td>\n",
       "    </tr>\n",
       "    <tr>\n",
       "      <th>17</th>\n",
       "      <td>5.64</td>\n",
       "      <td>73.19</td>\n",
       "      <td>72.62</td>\n",
       "    </tr>\n",
       "    <tr>\n",
       "      <th>18</th>\n",
       "      <td>7.19</td>\n",
       "      <td>78.21</td>\n",
       "      <td>78.71</td>\n",
       "    </tr>\n",
       "    <tr>\n",
       "      <th>19</th>\n",
       "      <td>7.31</td>\n",
       "      <td>77.59</td>\n",
       "      <td>79.18</td>\n",
       "    </tr>\n",
       "    <tr>\n",
       "      <th>20</th>\n",
       "      <td>8.61</td>\n",
       "      <td>83.87</td>\n",
       "      <td>84.29</td>\n",
       "    </tr>\n",
       "    <tr>\n",
       "      <th>21</th>\n",
       "      <td>8.95</td>\n",
       "      <td>85.15</td>\n",
       "      <td>85.63</td>\n",
       "    </tr>\n",
       "    <tr>\n",
       "      <th>22</th>\n",
       "      <td>6.18</td>\n",
       "      <td>72.96</td>\n",
       "      <td>74.74</td>\n",
       "    </tr>\n",
       "    <tr>\n",
       "      <th>23</th>\n",
       "      <td>7.86</td>\n",
       "      <td>80.72</td>\n",
       "      <td>81.34</td>\n",
       "    </tr>\n",
       "    <tr>\n",
       "      <th>24</th>\n",
       "      <td>5.49</td>\n",
       "      <td>73.61</td>\n",
       "      <td>72.03</td>\n",
       "    </tr>\n",
       "    <tr>\n",
       "      <th>25</th>\n",
       "      <td>7.62</td>\n",
       "      <td>79.53</td>\n",
       "      <td>80.40</td>\n",
       "    </tr>\n",
       "    <tr>\n",
       "      <th>26</th>\n",
       "      <td>7.26</td>\n",
       "      <td>78.17</td>\n",
       "      <td>78.99</td>\n",
       "    </tr>\n",
       "    <tr>\n",
       "      <th>27</th>\n",
       "      <td>8.05</td>\n",
       "      <td>79.63</td>\n",
       "      <td>82.09</td>\n",
       "    </tr>\n",
       "    <tr>\n",
       "      <th>28</th>\n",
       "      <td>7.00</td>\n",
       "      <td>76.83</td>\n",
       "      <td>77.95</td>\n",
       "    </tr>\n",
       "    <tr>\n",
       "      <th>29</th>\n",
       "      <td>8.09</td>\n",
       "      <td>82.38</td>\n",
       "      <td>82.25</td>\n",
       "    </tr>\n",
       "    <tr>\n",
       "      <th>30</th>\n",
       "      <td>6.36</td>\n",
       "      <td>76.04</td>\n",
       "      <td>75.45</td>\n",
       "    </tr>\n",
       "    <tr>\n",
       "      <th>31</th>\n",
       "      <td>8.69</td>\n",
       "      <td>85.48</td>\n",
       "      <td>84.61</td>\n",
       "    </tr>\n",
       "    <tr>\n",
       "      <th>32</th>\n",
       "      <td>5.39</td>\n",
       "      <td>71.87</td>\n",
       "      <td>71.64</td>\n",
       "    </tr>\n",
       "    <tr>\n",
       "      <th>33</th>\n",
       "      <td>6.37</td>\n",
       "      <td>75.04</td>\n",
       "      <td>75.49</td>\n",
       "    </tr>\n",
       "    <tr>\n",
       "      <th>34</th>\n",
       "      <td>5.05</td>\n",
       "      <td>70.67</td>\n",
       "      <td>70.30</td>\n",
       "    </tr>\n",
       "    <tr>\n",
       "      <th>35</th>\n",
       "      <td>7.26</td>\n",
       "      <td>79.87</td>\n",
       "      <td>78.99</td>\n",
       "    </tr>\n",
       "    <tr>\n",
       "      <th>36</th>\n",
       "      <td>6.33</td>\n",
       "      <td>74.49</td>\n",
       "      <td>75.33</td>\n",
       "    </tr>\n",
       "    <tr>\n",
       "      <th>37</th>\n",
       "      <td>8.67</td>\n",
       "      <td>84.19</td>\n",
       "      <td>84.53</td>\n",
       "    </tr>\n",
       "    <tr>\n",
       "      <th>38</th>\n",
       "      <td>6.01</td>\n",
       "      <td>75.36</td>\n",
       "      <td>74.07</td>\n",
       "    </tr>\n",
       "    <tr>\n",
       "      <th>39</th>\n",
       "      <td>5.34</td>\n",
       "      <td>72.10</td>\n",
       "      <td>71.44</td>\n",
       "    </tr>\n",
       "  </tbody>\n",
       "</table>\n",
       "</div>"
      ],
      "text/plain": [
       "    student_study_hours  student_actual_marks  student_predicted_marks\n",
       "0                  8.41                 82.50                    83.51\n",
       "1                  5.19                 71.18                    70.85\n",
       "2                  5.72                 73.25                    72.93\n",
       "3                  8.88                 83.64                    85.35\n",
       "4                  5.79                 73.64                    73.21\n",
       "5                  8.66                 86.99                    84.49\n",
       "6                  7.55                 81.18                    80.12\n",
       "7                  7.99                 82.75                    81.85\n",
       "8                  7.75                 79.50                    80.91\n",
       "9                  8.08                 81.70                    82.21\n",
       "10                 7.26                 79.41                    78.99\n",
       "11                 8.75                 85.95                    84.84\n",
       "12                 6.97                 77.19                    77.85\n",
       "13                 6.93                 78.45                    77.69\n",
       "14                 8.34                 84.00                    83.23\n",
       "15                 8.99                 85.46                    85.78\n",
       "16                 8.78                 84.35                    84.96\n",
       "17                 5.64                 73.19                    72.62\n",
       "18                 7.19                 78.21                    78.71\n",
       "19                 7.31                 77.59                    79.18\n",
       "20                 8.61                 83.87                    84.29\n",
       "21                 8.95                 85.15                    85.63\n",
       "22                 6.18                 72.96                    74.74\n",
       "23                 7.86                 80.72                    81.34\n",
       "24                 5.49                 73.61                    72.03\n",
       "25                 7.62                 79.53                    80.40\n",
       "26                 7.26                 78.17                    78.99\n",
       "27                 8.05                 79.63                    82.09\n",
       "28                 7.00                 76.83                    77.95\n",
       "29                 8.09                 82.38                    82.25\n",
       "30                 6.36                 76.04                    75.45\n",
       "31                 8.69                 85.48                    84.61\n",
       "32                 5.39                 71.87                    71.64\n",
       "33                 6.37                 75.04                    75.49\n",
       "34                 5.05                 70.67                    70.30\n",
       "35                 7.26                 79.87                    78.99\n",
       "36                 6.33                 74.49                    75.33\n",
       "37                 8.67                 84.19                    84.53\n",
       "38                 6.01                 75.36                    74.07\n",
       "39                 5.34                 72.10                    71.44"
      ]
     },
     "execution_count": 67,
     "metadata": {},
     "output_type": "execute_result"
    }
   ],
   "source": [
    "# now we will compair actual with predicited value\n",
    "#np.c_ this is used to concat the features\n",
    "pd.DataFrame(np.c_[X_test.round(2),y_test,y_pred],columns =[\"student_study_hours\",\"student_actual_marks\",\"student_predicted_marks\"])"
   ]
  },
  {
   "cell_type": "markdown",
   "id": "ead41a9f",
   "metadata": {},
   "source": [
    "# fine tune model"
   ]
  },
  {
   "cell_type": "code",
   "execution_count": 70,
   "id": "6b73d653",
   "metadata": {},
   "outputs": [],
   "source": [
    "variance =lr.score(X_test,y_test)"
   ]
  },
  {
   "cell_type": "code",
   "execution_count": 71,
   "id": "f3892c7b",
   "metadata": {},
   "outputs": [],
   "source": [
    "bias = lr.score(X_train,y_train)"
   ]
  },
  {
   "cell_type": "code",
   "execution_count": 72,
   "id": "10b7f079",
   "metadata": {},
   "outputs": [
    {
     "name": "stdout",
     "output_type": "stream",
     "text": [
      "0.9521841793508595\n",
      "0.9584528455152638\n"
     ]
    }
   ],
   "source": [
    "print(variance)\n",
    "print(bias)"
   ]
  },
  {
   "cell_type": "markdown",
   "id": "8a792a3e",
   "metadata": {},
   "source": [
    "# conclusion : \n",
    "model is good"
   ]
  },
  {
   "cell_type": "code",
   "execution_count": 73,
   "id": "f5c5e071",
   "metadata": {},
   "outputs": [
    {
     "data": {
      "text/plain": [
       "<matplotlib.collections.PathCollection at 0x1e5b2ef4730>"
      ]
     },
     "execution_count": 73,
     "metadata": {},
     "output_type": "execute_result"
    },
    {
     "data": {
      "image/png": "[encoded data removed]",
      "text/plain": [
       "<Figure size 640x480 with 1 Axes>"
      ]
     },
     "metadata": {},
     "output_type": "display_data"
    }
   ],
   "source": [
    "plt.scatter(X_train,y_train)"
   ]
  },
  {
   "cell_type": "code",
   "execution_count": 77,
   "id": "bf8699c6",
   "metadata": {},
   "outputs": [
    {
     "data": {
      "text/plain": [
       "[<matplotlib.lines.Line2D at 0x1e5b302f910>]"
      ]
     },
     "execution_count": 77,
     "metadata": {},
     "output_type": "execute_result"
    },
    {
     "data": {
      "image/png": "[encoded data removed]",
      "text/plain": [
       "<Figure size 640x480 with 1 Axes>"
      ]
     },
     "metadata": {},
     "output_type": "display_data"
    }
   ],
   "source": [
    "plt.scatter(X_test,y_test)\n",
    "plt.plot(X_train,lr.predict(X_train),color ='r')"
   ]
  },
  {
   "cell_type": "markdown",
   "id": "1959807c",
   "metadata": {},
   "source": [
    "# Present your solution"
   ]
  },
  {
   "cell_type": "code",
   "execution_count": 78,
   "id": "abe73d9a",
   "metadata": {},
   "outputs": [],
   "source": [
    "# with 95% accuracy"
   ]
  },
  {
   "cell_type": "markdown",
   "id": "f5b69461",
   "metadata": {},
   "source": [
    "# saveing our model\n"
   ]
  },
  {
   "cell_type": "code",
   "execution_count": 79,
   "id": "936b24b0",
   "metadata": {},
   "outputs": [],
   "source": [
    "import joblib"
   ]
  },
  {
   "cell_type": "code",
   "execution_count": 80,
   "id": "3fa95815",
   "metadata": {},
   "outputs": [
    {
     "data": {
      "text/plain": [
       "['student_marks_predictor_model.pkl']"
      ]
     },
     "execution_count": 80,
     "metadata": {},
     "output_type": "execute_result"
    }
   ],
   "source": [
    "#with this dump method we can save our model\n",
    "# first we need to give model name\n",
    "#then file name by which we want to save\n",
    "joblib.dump(lr,\"student_marks_predictor_model.pkl\")"
   ]
  },
  {
   "cell_type": "code",
   "execution_count": null,
   "id": "40729b1d",
   "metadata": {},
   "outputs": [],
   "source": []
  }
 ],
 "metadata": {
  "kernelspec": {
   "display_name": "Python 3 (ipykernel)",
   "language": "python",
   "name": "python3"
  },
  "language_info": {
   "codemirror_mode": {
    "name": "ipython",
    "version": 3
   },
   "file_extension": ".py",
   "mimetype": "text/x-python",
   "name": "python",
   "nbconvert_exporter": "python",
   "pygments_lexer": "ipython3",
   "version": "3.9.13"
  }
 },
 "nbformat": 4,
 "nbformat_minor": 5
}
